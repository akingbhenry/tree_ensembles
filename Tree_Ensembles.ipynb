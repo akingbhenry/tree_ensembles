{
 "cells": [
  {
   "cell_type": "code",
   "execution_count": 1,
   "id": "a797b870",
   "metadata": {},
   "outputs": [],
   "source": [
    "import numpy as np\n",
    "import pandas as pd\n",
    "from sklearn import tree, ensemble\n",
    "import matplotlib.pyplot as plt\n",
    "from sklearn.datasets import load_wine\n",
    "from sklearn.inspection import permutation_importance"
   ]
  },
  {
   "cell_type": "markdown",
   "id": "6c214882",
   "metadata": {},
   "source": [
    "# Tree Ensembles "
   ]
  },
  {
   "cell_type": "markdown",
   "id": "09bcefa0",
   "metadata": {},
   "source": [
    "## Overview \n",
    "\n",
    "In this task you will build two types of tree ensemble models: Random Forest and Boosted. You will then investigate two methods for feature selection. \n",
    "\n",
    "###### Outline:\n",
    "\n",
    "\n",
    "- [Part 1](#part1)- Importing the data set and formatting it \n",
    "- [Part 2](#part2)- Fitting a single decision tree\n",
    "- [Part 3](#part3)- Using a Random Forest Classifier\n",
    "- [Part 4](#part4)- Using the AdaBoost Classifier\n",
    "- [Part 5](#part5)- Choosing the best classifier and retraining using all the samples, testing on the test set\n",
    "- [Part 6](#part6)- Feature selection\n"
   ]
  },
  {
   "cell_type": "markdown",
   "id": "e296396e",
   "metadata": {},
   "source": [
    "[Back to top](#Index:) \n",
    "\n",
    "<a id='part1'></a>\n",
    "\n",
    "### Part 1 - Importing the data set\n",
    "\n",
    "For this excercise we will be using a data set from the University of Medicine and Pharmacy of Craiova, Romania to predict the hospitalisation period of patients after colon cancer operations based on socio-economic variables and clinical information. You can read more about the data and it's origins [here](https://figshare.com/articles/dataset/LOS_Colon_Cancer_621_cases/4747246/1). "
   ]
  },
  {
   "cell_type": "markdown",
   "id": "35151b8a",
   "metadata": {},
   "source": [
    "The data is stored in xlsx format again in the `colon_data.xlsx` file. Use the `read_excel()` function to load it."
   ]
  },
  {
   "cell_type": "code",
   "execution_count": 2,
   "id": "740ef9b0",
   "metadata": {},
   "outputs": [
    {
     "data": {
      "text/plain": [
       "298"
      ]
     },
     "execution_count": 2,
     "metadata": {},
     "output_type": "execute_result"
    }
   ],
   "source": [
    "df = pd.read_excel('colon_data.xlsx')\n",
    "len(df)"
   ]
  },
  {
   "cell_type": "markdown",
   "id": "5701b326",
   "metadata": {},
   "source": [
    "Use the `.head()` function to visulise the data."
   ]
  },
  {
   "cell_type": "code",
   "execution_count": 3,
   "id": "510a42a8",
   "metadata": {
    "scrolled": true
   },
   "outputs": [
    {
     "data": {
      "text/html": [
       "<div>\n",
       "<style scoped>\n",
       "    .dataframe tbody tr th:only-of-type {\n",
       "        vertical-align: middle;\n",
       "    }\n",
       "\n",
       "    .dataframe tbody tr th {\n",
       "        vertical-align: top;\n",
       "    }\n",
       "\n",
       "    .dataframe thead th {\n",
       "        text-align: right;\n",
       "    }\n",
       "</style>\n",
       "<table border=\"1\" class=\"dataframe\">\n",
       "  <thead>\n",
       "    <tr style=\"text-align: right;\">\n",
       "      <th></th>\n",
       "      <th>AGE</th>\n",
       "      <th>SEX</th>\n",
       "      <th>TOPOGRAPHY</th>\n",
       "      <th>STAGE</th>\n",
       "      <th>T</th>\n",
       "      <th>N</th>\n",
       "      <th>M</th>\n",
       "      <th>SURGERY</th>\n",
       "      <th>CLASS</th>\n",
       "    </tr>\n",
       "  </thead>\n",
       "  <tbody>\n",
       "    <tr>\n",
       "      <th>0</th>\n",
       "      <td>64</td>\n",
       "      <td>M</td>\n",
       "      <td>rect</td>\n",
       "      <td>three</td>\n",
       "      <td>T4</td>\n",
       "      <td>Nx</td>\n",
       "      <td>Mx</td>\n",
       "      <td>ten</td>\n",
       "      <td>medium</td>\n",
       "    </tr>\n",
       "    <tr>\n",
       "      <th>1</th>\n",
       "      <td>70</td>\n",
       "      <td>M</td>\n",
       "      <td>rect</td>\n",
       "      <td>three</td>\n",
       "      <td>T4</td>\n",
       "      <td>Nx</td>\n",
       "      <td>Mx</td>\n",
       "      <td>ten</td>\n",
       "      <td>medium</td>\n",
       "    </tr>\n",
       "    <tr>\n",
       "      <th>2</th>\n",
       "      <td>76</td>\n",
       "      <td>F</td>\n",
       "      <td>cec</td>\n",
       "      <td>three</td>\n",
       "      <td>T3</td>\n",
       "      <td>Nx</td>\n",
       "      <td>Mx</td>\n",
       "      <td>three</td>\n",
       "      <td>medium</td>\n",
       "    </tr>\n",
       "    <tr>\n",
       "      <th>3</th>\n",
       "      <td>62</td>\n",
       "      <td>M</td>\n",
       "      <td>cec</td>\n",
       "      <td>three</td>\n",
       "      <td>T2</td>\n",
       "      <td>Nx</td>\n",
       "      <td>Mx</td>\n",
       "      <td>three</td>\n",
       "      <td>short</td>\n",
       "    </tr>\n",
       "    <tr>\n",
       "      <th>4</th>\n",
       "      <td>62</td>\n",
       "      <td>M</td>\n",
       "      <td>cec</td>\n",
       "      <td>two</td>\n",
       "      <td>T2</td>\n",
       "      <td>Nx</td>\n",
       "      <td>Mx</td>\n",
       "      <td>three</td>\n",
       "      <td>short</td>\n",
       "    </tr>\n",
       "    <tr>\n",
       "      <th>5</th>\n",
       "      <td>62</td>\n",
       "      <td>F</td>\n",
       "      <td>cec</td>\n",
       "      <td>two</td>\n",
       "      <td>T2</td>\n",
       "      <td>Nx</td>\n",
       "      <td>Mx</td>\n",
       "      <td>three</td>\n",
       "      <td>short</td>\n",
       "    </tr>\n",
       "    <tr>\n",
       "      <th>6</th>\n",
       "      <td>41</td>\n",
       "      <td>M</td>\n",
       "      <td>cec</td>\n",
       "      <td>two</td>\n",
       "      <td>T3</td>\n",
       "      <td>Nx</td>\n",
       "      <td>Mx</td>\n",
       "      <td>three</td>\n",
       "      <td>medium</td>\n",
       "    </tr>\n",
       "    <tr>\n",
       "      <th>7</th>\n",
       "      <td>82</td>\n",
       "      <td>F</td>\n",
       "      <td>cec</td>\n",
       "      <td>two</td>\n",
       "      <td>T2</td>\n",
       "      <td>Nx</td>\n",
       "      <td>Mx</td>\n",
       "      <td>three</td>\n",
       "      <td>short</td>\n",
       "    </tr>\n",
       "    <tr>\n",
       "      <th>8</th>\n",
       "      <td>76</td>\n",
       "      <td>F</td>\n",
       "      <td>cec</td>\n",
       "      <td>two</td>\n",
       "      <td>T2</td>\n",
       "      <td>Nx</td>\n",
       "      <td>Mx</td>\n",
       "      <td>three</td>\n",
       "      <td>short</td>\n",
       "    </tr>\n",
       "    <tr>\n",
       "      <th>9</th>\n",
       "      <td>76</td>\n",
       "      <td>M</td>\n",
       "      <td>cec</td>\n",
       "      <td>three</td>\n",
       "      <td>T3</td>\n",
       "      <td>Nx</td>\n",
       "      <td>Mx</td>\n",
       "      <td>three</td>\n",
       "      <td>medium</td>\n",
       "    </tr>\n",
       "  </tbody>\n",
       "</table>\n",
       "</div>"
      ],
      "text/plain": [
       "   AGE SEX TOPOGRAPHY  STAGE   T   N   M SURGERY   CLASS\n",
       "0   64   M       rect  three  T4  Nx  Mx     ten  medium\n",
       "1   70   M       rect  three  T4  Nx  Mx     ten  medium\n",
       "2   76   F        cec  three  T3  Nx  Mx   three  medium\n",
       "3   62   M        cec  three  T2  Nx  Mx   three   short\n",
       "4   62   M        cec    two  T2  Nx  Mx   three   short\n",
       "5   62   F        cec    two  T2  Nx  Mx   three   short\n",
       "6   41   M        cec    two  T3  Nx  Mx   three  medium\n",
       "7   82   F        cec    two  T2  Nx  Mx   three   short\n",
       "8   76   F        cec    two  T2  Nx  Mx   three   short\n",
       "9   76   M        cec  three  T3  Nx  Mx   three  medium"
      ]
     },
     "execution_count": 3,
     "metadata": {},
     "output_type": "execute_result"
    }
   ],
   "source": [
    "df.head(10)"
   ]
  },
  {
   "cell_type": "markdown",
   "id": "192a6f15",
   "metadata": {},
   "source": [
    "First we want to replace the categorical values of the output (the `CLASS` variable) with numerical values. Fill in the gaps below to use the `.replace()` function to do this."
   ]
  },
  {
   "cell_type": "code",
   "execution_count": 4,
   "id": "67a236a9",
   "metadata": {},
   "outputs": [],
   "source": [
    "df['CLASS'].replace(to_replace=['medium', 'short', 'long'], value=[0, 1, 2], inplace=True)"
   ]
  },
  {
   "cell_type": "markdown",
   "id": "0104c15e",
   "metadata": {},
   "source": [
    "Now use the `get_dummies()` function to transform the other categorical variables to numerical ones. "
   ]
  },
  {
   "cell_type": "code",
   "execution_count": 5,
   "id": "dec8a21d",
   "metadata": {
    "scrolled": true
   },
   "outputs": [
    {
     "data": {
      "text/html": [
       "<div>\n",
       "<style scoped>\n",
       "    .dataframe tbody tr th:only-of-type {\n",
       "        vertical-align: middle;\n",
       "    }\n",
       "\n",
       "    .dataframe tbody tr th {\n",
       "        vertical-align: top;\n",
       "    }\n",
       "\n",
       "    .dataframe thead th {\n",
       "        text-align: right;\n",
       "    }\n",
       "</style>\n",
       "<table border=\"1\" class=\"dataframe\">\n",
       "  <thead>\n",
       "    <tr style=\"text-align: right;\">\n",
       "      <th></th>\n",
       "      <th>AGE</th>\n",
       "      <th>CLASS</th>\n",
       "      <th>SEX_F</th>\n",
       "      <th>SEX_M</th>\n",
       "      <th>TOPOGRAPHY_cec</th>\n",
       "      <th>TOPOGRAPHY_colon_asc</th>\n",
       "      <th>TOPOGRAPHY_colon_desc</th>\n",
       "      <th>TOPOGRAPHY_colon_sigm</th>\n",
       "      <th>TOPOGRAPHY_colon_trans</th>\n",
       "      <th>TOPOGRAPHY_jonc_rect_sigm</th>\n",
       "      <th>...</th>\n",
       "      <th>N_N1</th>\n",
       "      <th>N_N2</th>\n",
       "      <th>N_Nx</th>\n",
       "      <th>M_M0</th>\n",
       "      <th>M_M1</th>\n",
       "      <th>M_M1_hep</th>\n",
       "      <th>M_Mx</th>\n",
       "      <th>SURGERY_ten</th>\n",
       "      <th>SURGERY_three</th>\n",
       "      <th>SURGERY_two</th>\n",
       "    </tr>\n",
       "  </thead>\n",
       "  <tbody>\n",
       "    <tr>\n",
       "      <th>0</th>\n",
       "      <td>64</td>\n",
       "      <td>0</td>\n",
       "      <td>0</td>\n",
       "      <td>1</td>\n",
       "      <td>0</td>\n",
       "      <td>0</td>\n",
       "      <td>0</td>\n",
       "      <td>0</td>\n",
       "      <td>0</td>\n",
       "      <td>0</td>\n",
       "      <td>...</td>\n",
       "      <td>0</td>\n",
       "      <td>0</td>\n",
       "      <td>1</td>\n",
       "      <td>0</td>\n",
       "      <td>0</td>\n",
       "      <td>0</td>\n",
       "      <td>1</td>\n",
       "      <td>1</td>\n",
       "      <td>0</td>\n",
       "      <td>0</td>\n",
       "    </tr>\n",
       "    <tr>\n",
       "      <th>1</th>\n",
       "      <td>70</td>\n",
       "      <td>0</td>\n",
       "      <td>0</td>\n",
       "      <td>1</td>\n",
       "      <td>0</td>\n",
       "      <td>0</td>\n",
       "      <td>0</td>\n",
       "      <td>0</td>\n",
       "      <td>0</td>\n",
       "      <td>0</td>\n",
       "      <td>...</td>\n",
       "      <td>0</td>\n",
       "      <td>0</td>\n",
       "      <td>1</td>\n",
       "      <td>0</td>\n",
       "      <td>0</td>\n",
       "      <td>0</td>\n",
       "      <td>1</td>\n",
       "      <td>1</td>\n",
       "      <td>0</td>\n",
       "      <td>0</td>\n",
       "    </tr>\n",
       "    <tr>\n",
       "      <th>2</th>\n",
       "      <td>76</td>\n",
       "      <td>0</td>\n",
       "      <td>1</td>\n",
       "      <td>0</td>\n",
       "      <td>1</td>\n",
       "      <td>0</td>\n",
       "      <td>0</td>\n",
       "      <td>0</td>\n",
       "      <td>0</td>\n",
       "      <td>0</td>\n",
       "      <td>...</td>\n",
       "      <td>0</td>\n",
       "      <td>0</td>\n",
       "      <td>1</td>\n",
       "      <td>0</td>\n",
       "      <td>0</td>\n",
       "      <td>0</td>\n",
       "      <td>1</td>\n",
       "      <td>0</td>\n",
       "      <td>1</td>\n",
       "      <td>0</td>\n",
       "    </tr>\n",
       "    <tr>\n",
       "      <th>3</th>\n",
       "      <td>62</td>\n",
       "      <td>1</td>\n",
       "      <td>0</td>\n",
       "      <td>1</td>\n",
       "      <td>1</td>\n",
       "      <td>0</td>\n",
       "      <td>0</td>\n",
       "      <td>0</td>\n",
       "      <td>0</td>\n",
       "      <td>0</td>\n",
       "      <td>...</td>\n",
       "      <td>0</td>\n",
       "      <td>0</td>\n",
       "      <td>1</td>\n",
       "      <td>0</td>\n",
       "      <td>0</td>\n",
       "      <td>0</td>\n",
       "      <td>1</td>\n",
       "      <td>0</td>\n",
       "      <td>1</td>\n",
       "      <td>0</td>\n",
       "    </tr>\n",
       "    <tr>\n",
       "      <th>4</th>\n",
       "      <td>62</td>\n",
       "      <td>1</td>\n",
       "      <td>0</td>\n",
       "      <td>1</td>\n",
       "      <td>1</td>\n",
       "      <td>0</td>\n",
       "      <td>0</td>\n",
       "      <td>0</td>\n",
       "      <td>0</td>\n",
       "      <td>0</td>\n",
       "      <td>...</td>\n",
       "      <td>0</td>\n",
       "      <td>0</td>\n",
       "      <td>1</td>\n",
       "      <td>0</td>\n",
       "      <td>0</td>\n",
       "      <td>0</td>\n",
       "      <td>1</td>\n",
       "      <td>0</td>\n",
       "      <td>1</td>\n",
       "      <td>0</td>\n",
       "    </tr>\n",
       "    <tr>\n",
       "      <th>5</th>\n",
       "      <td>62</td>\n",
       "      <td>1</td>\n",
       "      <td>1</td>\n",
       "      <td>0</td>\n",
       "      <td>1</td>\n",
       "      <td>0</td>\n",
       "      <td>0</td>\n",
       "      <td>0</td>\n",
       "      <td>0</td>\n",
       "      <td>0</td>\n",
       "      <td>...</td>\n",
       "      <td>0</td>\n",
       "      <td>0</td>\n",
       "      <td>1</td>\n",
       "      <td>0</td>\n",
       "      <td>0</td>\n",
       "      <td>0</td>\n",
       "      <td>1</td>\n",
       "      <td>0</td>\n",
       "      <td>1</td>\n",
       "      <td>0</td>\n",
       "    </tr>\n",
       "    <tr>\n",
       "      <th>6</th>\n",
       "      <td>41</td>\n",
       "      <td>0</td>\n",
       "      <td>0</td>\n",
       "      <td>1</td>\n",
       "      <td>1</td>\n",
       "      <td>0</td>\n",
       "      <td>0</td>\n",
       "      <td>0</td>\n",
       "      <td>0</td>\n",
       "      <td>0</td>\n",
       "      <td>...</td>\n",
       "      <td>0</td>\n",
       "      <td>0</td>\n",
       "      <td>1</td>\n",
       "      <td>0</td>\n",
       "      <td>0</td>\n",
       "      <td>0</td>\n",
       "      <td>1</td>\n",
       "      <td>0</td>\n",
       "      <td>1</td>\n",
       "      <td>0</td>\n",
       "    </tr>\n",
       "    <tr>\n",
       "      <th>7</th>\n",
       "      <td>82</td>\n",
       "      <td>1</td>\n",
       "      <td>1</td>\n",
       "      <td>0</td>\n",
       "      <td>1</td>\n",
       "      <td>0</td>\n",
       "      <td>0</td>\n",
       "      <td>0</td>\n",
       "      <td>0</td>\n",
       "      <td>0</td>\n",
       "      <td>...</td>\n",
       "      <td>0</td>\n",
       "      <td>0</td>\n",
       "      <td>1</td>\n",
       "      <td>0</td>\n",
       "      <td>0</td>\n",
       "      <td>0</td>\n",
       "      <td>1</td>\n",
       "      <td>0</td>\n",
       "      <td>1</td>\n",
       "      <td>0</td>\n",
       "    </tr>\n",
       "    <tr>\n",
       "      <th>8</th>\n",
       "      <td>76</td>\n",
       "      <td>1</td>\n",
       "      <td>1</td>\n",
       "      <td>0</td>\n",
       "      <td>1</td>\n",
       "      <td>0</td>\n",
       "      <td>0</td>\n",
       "      <td>0</td>\n",
       "      <td>0</td>\n",
       "      <td>0</td>\n",
       "      <td>...</td>\n",
       "      <td>0</td>\n",
       "      <td>0</td>\n",
       "      <td>1</td>\n",
       "      <td>0</td>\n",
       "      <td>0</td>\n",
       "      <td>0</td>\n",
       "      <td>1</td>\n",
       "      <td>0</td>\n",
       "      <td>1</td>\n",
       "      <td>0</td>\n",
       "    </tr>\n",
       "    <tr>\n",
       "      <th>9</th>\n",
       "      <td>76</td>\n",
       "      <td>0</td>\n",
       "      <td>0</td>\n",
       "      <td>1</td>\n",
       "      <td>1</td>\n",
       "      <td>0</td>\n",
       "      <td>0</td>\n",
       "      <td>0</td>\n",
       "      <td>0</td>\n",
       "      <td>0</td>\n",
       "      <td>...</td>\n",
       "      <td>0</td>\n",
       "      <td>0</td>\n",
       "      <td>1</td>\n",
       "      <td>0</td>\n",
       "      <td>0</td>\n",
       "      <td>0</td>\n",
       "      <td>1</td>\n",
       "      <td>0</td>\n",
       "      <td>1</td>\n",
       "      <td>0</td>\n",
       "    </tr>\n",
       "  </tbody>\n",
       "</table>\n",
       "<p>10 rows × 31 columns</p>\n",
       "</div>"
      ],
      "text/plain": [
       "   AGE  CLASS  SEX_F  SEX_M  TOPOGRAPHY_cec  TOPOGRAPHY_colon_asc  \\\n",
       "0   64      0      0      1               0                     0   \n",
       "1   70      0      0      1               0                     0   \n",
       "2   76      0      1      0               1                     0   \n",
       "3   62      1      0      1               1                     0   \n",
       "4   62      1      0      1               1                     0   \n",
       "5   62      1      1      0               1                     0   \n",
       "6   41      0      0      1               1                     0   \n",
       "7   82      1      1      0               1                     0   \n",
       "8   76      1      1      0               1                     0   \n",
       "9   76      0      0      1               1                     0   \n",
       "\n",
       "   TOPOGRAPHY_colon_desc  TOPOGRAPHY_colon_sigm  TOPOGRAPHY_colon_trans  \\\n",
       "0                      0                      0                       0   \n",
       "1                      0                      0                       0   \n",
       "2                      0                      0                       0   \n",
       "3                      0                      0                       0   \n",
       "4                      0                      0                       0   \n",
       "5                      0                      0                       0   \n",
       "6                      0                      0                       0   \n",
       "7                      0                      0                       0   \n",
       "8                      0                      0                       0   \n",
       "9                      0                      0                       0   \n",
       "\n",
       "   TOPOGRAPHY_jonc_rect_sigm  ...  N_N1  N_N2  N_Nx  M_M0  M_M1  M_M1_hep  \\\n",
       "0                          0  ...     0     0     1     0     0         0   \n",
       "1                          0  ...     0     0     1     0     0         0   \n",
       "2                          0  ...     0     0     1     0     0         0   \n",
       "3                          0  ...     0     0     1     0     0         0   \n",
       "4                          0  ...     0     0     1     0     0         0   \n",
       "5                          0  ...     0     0     1     0     0         0   \n",
       "6                          0  ...     0     0     1     0     0         0   \n",
       "7                          0  ...     0     0     1     0     0         0   \n",
       "8                          0  ...     0     0     1     0     0         0   \n",
       "9                          0  ...     0     0     1     0     0         0   \n",
       "\n",
       "   M_Mx  SURGERY_ten  SURGERY_three  SURGERY_two  \n",
       "0     1            1              0            0  \n",
       "1     1            1              0            0  \n",
       "2     1            0              1            0  \n",
       "3     1            0              1            0  \n",
       "4     1            0              1            0  \n",
       "5     1            0              1            0  \n",
       "6     1            0              1            0  \n",
       "7     1            0              1            0  \n",
       "8     1            0              1            0  \n",
       "9     1            0              1            0  \n",
       "\n",
       "[10 rows x 31 columns]"
      ]
     },
     "execution_count": 5,
     "metadata": {},
     "output_type": "execute_result"
    }
   ],
   "source": [
    "df = pd.get_dummies(df, columns=['SEX', 'TOPOGRAPHY', 'STAGE', 'T', 'N', 'M', 'SURGERY'])\n",
    "df.head(10)"
   ]
  },
  {
   "cell_type": "markdown",
   "id": "8c3205e5",
   "metadata": {},
   "source": [
    "The following cell is just to ensure the 'CLASS' variable is the last column."
   ]
  },
  {
   "cell_type": "code",
   "execution_count": 6,
   "id": "acaf2457",
   "metadata": {},
   "outputs": [
    {
     "data": {
      "text/html": [
       "<div>\n",
       "<style scoped>\n",
       "    .dataframe tbody tr th:only-of-type {\n",
       "        vertical-align: middle;\n",
       "    }\n",
       "\n",
       "    .dataframe tbody tr th {\n",
       "        vertical-align: top;\n",
       "    }\n",
       "\n",
       "    .dataframe thead th {\n",
       "        text-align: right;\n",
       "    }\n",
       "</style>\n",
       "<table border=\"1\" class=\"dataframe\">\n",
       "  <thead>\n",
       "    <tr style=\"text-align: right;\">\n",
       "      <th></th>\n",
       "      <th>AGE</th>\n",
       "      <th>SEX_F</th>\n",
       "      <th>SEX_M</th>\n",
       "      <th>TOPOGRAPHY_cec</th>\n",
       "      <th>TOPOGRAPHY_colon_asc</th>\n",
       "      <th>TOPOGRAPHY_colon_desc</th>\n",
       "      <th>TOPOGRAPHY_colon_sigm</th>\n",
       "      <th>TOPOGRAPHY_colon_trans</th>\n",
       "      <th>TOPOGRAPHY_jonc_rect_sigm</th>\n",
       "      <th>TOPOGRAPHY_rect</th>\n",
       "      <th>...</th>\n",
       "      <th>N_N2</th>\n",
       "      <th>N_Nx</th>\n",
       "      <th>M_M0</th>\n",
       "      <th>M_M1</th>\n",
       "      <th>M_M1_hep</th>\n",
       "      <th>M_Mx</th>\n",
       "      <th>SURGERY_ten</th>\n",
       "      <th>SURGERY_three</th>\n",
       "      <th>SURGERY_two</th>\n",
       "      <th>CLASS</th>\n",
       "    </tr>\n",
       "  </thead>\n",
       "  <tbody>\n",
       "    <tr>\n",
       "      <th>0</th>\n",
       "      <td>64</td>\n",
       "      <td>0</td>\n",
       "      <td>1</td>\n",
       "      <td>0</td>\n",
       "      <td>0</td>\n",
       "      <td>0</td>\n",
       "      <td>0</td>\n",
       "      <td>0</td>\n",
       "      <td>0</td>\n",
       "      <td>1</td>\n",
       "      <td>...</td>\n",
       "      <td>0</td>\n",
       "      <td>1</td>\n",
       "      <td>0</td>\n",
       "      <td>0</td>\n",
       "      <td>0</td>\n",
       "      <td>1</td>\n",
       "      <td>1</td>\n",
       "      <td>0</td>\n",
       "      <td>0</td>\n",
       "      <td>0</td>\n",
       "    </tr>\n",
       "    <tr>\n",
       "      <th>1</th>\n",
       "      <td>70</td>\n",
       "      <td>0</td>\n",
       "      <td>1</td>\n",
       "      <td>0</td>\n",
       "      <td>0</td>\n",
       "      <td>0</td>\n",
       "      <td>0</td>\n",
       "      <td>0</td>\n",
       "      <td>0</td>\n",
       "      <td>1</td>\n",
       "      <td>...</td>\n",
       "      <td>0</td>\n",
       "      <td>1</td>\n",
       "      <td>0</td>\n",
       "      <td>0</td>\n",
       "      <td>0</td>\n",
       "      <td>1</td>\n",
       "      <td>1</td>\n",
       "      <td>0</td>\n",
       "      <td>0</td>\n",
       "      <td>0</td>\n",
       "    </tr>\n",
       "    <tr>\n",
       "      <th>2</th>\n",
       "      <td>76</td>\n",
       "      <td>1</td>\n",
       "      <td>0</td>\n",
       "      <td>1</td>\n",
       "      <td>0</td>\n",
       "      <td>0</td>\n",
       "      <td>0</td>\n",
       "      <td>0</td>\n",
       "      <td>0</td>\n",
       "      <td>0</td>\n",
       "      <td>...</td>\n",
       "      <td>0</td>\n",
       "      <td>1</td>\n",
       "      <td>0</td>\n",
       "      <td>0</td>\n",
       "      <td>0</td>\n",
       "      <td>1</td>\n",
       "      <td>0</td>\n",
       "      <td>1</td>\n",
       "      <td>0</td>\n",
       "      <td>0</td>\n",
       "    </tr>\n",
       "    <tr>\n",
       "      <th>3</th>\n",
       "      <td>62</td>\n",
       "      <td>0</td>\n",
       "      <td>1</td>\n",
       "      <td>1</td>\n",
       "      <td>0</td>\n",
       "      <td>0</td>\n",
       "      <td>0</td>\n",
       "      <td>0</td>\n",
       "      <td>0</td>\n",
       "      <td>0</td>\n",
       "      <td>...</td>\n",
       "      <td>0</td>\n",
       "      <td>1</td>\n",
       "      <td>0</td>\n",
       "      <td>0</td>\n",
       "      <td>0</td>\n",
       "      <td>1</td>\n",
       "      <td>0</td>\n",
       "      <td>1</td>\n",
       "      <td>0</td>\n",
       "      <td>1</td>\n",
       "    </tr>\n",
       "    <tr>\n",
       "      <th>4</th>\n",
       "      <td>62</td>\n",
       "      <td>0</td>\n",
       "      <td>1</td>\n",
       "      <td>1</td>\n",
       "      <td>0</td>\n",
       "      <td>0</td>\n",
       "      <td>0</td>\n",
       "      <td>0</td>\n",
       "      <td>0</td>\n",
       "      <td>0</td>\n",
       "      <td>...</td>\n",
       "      <td>0</td>\n",
       "      <td>1</td>\n",
       "      <td>0</td>\n",
       "      <td>0</td>\n",
       "      <td>0</td>\n",
       "      <td>1</td>\n",
       "      <td>0</td>\n",
       "      <td>1</td>\n",
       "      <td>0</td>\n",
       "      <td>1</td>\n",
       "    </tr>\n",
       "    <tr>\n",
       "      <th>5</th>\n",
       "      <td>62</td>\n",
       "      <td>1</td>\n",
       "      <td>0</td>\n",
       "      <td>1</td>\n",
       "      <td>0</td>\n",
       "      <td>0</td>\n",
       "      <td>0</td>\n",
       "      <td>0</td>\n",
       "      <td>0</td>\n",
       "      <td>0</td>\n",
       "      <td>...</td>\n",
       "      <td>0</td>\n",
       "      <td>1</td>\n",
       "      <td>0</td>\n",
       "      <td>0</td>\n",
       "      <td>0</td>\n",
       "      <td>1</td>\n",
       "      <td>0</td>\n",
       "      <td>1</td>\n",
       "      <td>0</td>\n",
       "      <td>1</td>\n",
       "    </tr>\n",
       "    <tr>\n",
       "      <th>6</th>\n",
       "      <td>41</td>\n",
       "      <td>0</td>\n",
       "      <td>1</td>\n",
       "      <td>1</td>\n",
       "      <td>0</td>\n",
       "      <td>0</td>\n",
       "      <td>0</td>\n",
       "      <td>0</td>\n",
       "      <td>0</td>\n",
       "      <td>0</td>\n",
       "      <td>...</td>\n",
       "      <td>0</td>\n",
       "      <td>1</td>\n",
       "      <td>0</td>\n",
       "      <td>0</td>\n",
       "      <td>0</td>\n",
       "      <td>1</td>\n",
       "      <td>0</td>\n",
       "      <td>1</td>\n",
       "      <td>0</td>\n",
       "      <td>0</td>\n",
       "    </tr>\n",
       "    <tr>\n",
       "      <th>7</th>\n",
       "      <td>82</td>\n",
       "      <td>1</td>\n",
       "      <td>0</td>\n",
       "      <td>1</td>\n",
       "      <td>0</td>\n",
       "      <td>0</td>\n",
       "      <td>0</td>\n",
       "      <td>0</td>\n",
       "      <td>0</td>\n",
       "      <td>0</td>\n",
       "      <td>...</td>\n",
       "      <td>0</td>\n",
       "      <td>1</td>\n",
       "      <td>0</td>\n",
       "      <td>0</td>\n",
       "      <td>0</td>\n",
       "      <td>1</td>\n",
       "      <td>0</td>\n",
       "      <td>1</td>\n",
       "      <td>0</td>\n",
       "      <td>1</td>\n",
       "    </tr>\n",
       "    <tr>\n",
       "      <th>8</th>\n",
       "      <td>76</td>\n",
       "      <td>1</td>\n",
       "      <td>0</td>\n",
       "      <td>1</td>\n",
       "      <td>0</td>\n",
       "      <td>0</td>\n",
       "      <td>0</td>\n",
       "      <td>0</td>\n",
       "      <td>0</td>\n",
       "      <td>0</td>\n",
       "      <td>...</td>\n",
       "      <td>0</td>\n",
       "      <td>1</td>\n",
       "      <td>0</td>\n",
       "      <td>0</td>\n",
       "      <td>0</td>\n",
       "      <td>1</td>\n",
       "      <td>0</td>\n",
       "      <td>1</td>\n",
       "      <td>0</td>\n",
       "      <td>1</td>\n",
       "    </tr>\n",
       "    <tr>\n",
       "      <th>9</th>\n",
       "      <td>76</td>\n",
       "      <td>0</td>\n",
       "      <td>1</td>\n",
       "      <td>1</td>\n",
       "      <td>0</td>\n",
       "      <td>0</td>\n",
       "      <td>0</td>\n",
       "      <td>0</td>\n",
       "      <td>0</td>\n",
       "      <td>0</td>\n",
       "      <td>...</td>\n",
       "      <td>0</td>\n",
       "      <td>1</td>\n",
       "      <td>0</td>\n",
       "      <td>0</td>\n",
       "      <td>0</td>\n",
       "      <td>1</td>\n",
       "      <td>0</td>\n",
       "      <td>1</td>\n",
       "      <td>0</td>\n",
       "      <td>0</td>\n",
       "    </tr>\n",
       "  </tbody>\n",
       "</table>\n",
       "<p>10 rows × 31 columns</p>\n",
       "</div>"
      ],
      "text/plain": [
       "   AGE  SEX_F  SEX_M  TOPOGRAPHY_cec  TOPOGRAPHY_colon_asc  \\\n",
       "0   64      0      1               0                     0   \n",
       "1   70      0      1               0                     0   \n",
       "2   76      1      0               1                     0   \n",
       "3   62      0      1               1                     0   \n",
       "4   62      0      1               1                     0   \n",
       "5   62      1      0               1                     0   \n",
       "6   41      0      1               1                     0   \n",
       "7   82      1      0               1                     0   \n",
       "8   76      1      0               1                     0   \n",
       "9   76      0      1               1                     0   \n",
       "\n",
       "   TOPOGRAPHY_colon_desc  TOPOGRAPHY_colon_sigm  TOPOGRAPHY_colon_trans  \\\n",
       "0                      0                      0                       0   \n",
       "1                      0                      0                       0   \n",
       "2                      0                      0                       0   \n",
       "3                      0                      0                       0   \n",
       "4                      0                      0                       0   \n",
       "5                      0                      0                       0   \n",
       "6                      0                      0                       0   \n",
       "7                      0                      0                       0   \n",
       "8                      0                      0                       0   \n",
       "9                      0                      0                       0   \n",
       "\n",
       "   TOPOGRAPHY_jonc_rect_sigm  TOPOGRAPHY_rect  ...  N_N2  N_Nx  M_M0  M_M1  \\\n",
       "0                          0                1  ...     0     1     0     0   \n",
       "1                          0                1  ...     0     1     0     0   \n",
       "2                          0                0  ...     0     1     0     0   \n",
       "3                          0                0  ...     0     1     0     0   \n",
       "4                          0                0  ...     0     1     0     0   \n",
       "5                          0                0  ...     0     1     0     0   \n",
       "6                          0                0  ...     0     1     0     0   \n",
       "7                          0                0  ...     0     1     0     0   \n",
       "8                          0                0  ...     0     1     0     0   \n",
       "9                          0                0  ...     0     1     0     0   \n",
       "\n",
       "   M_M1_hep  M_Mx  SURGERY_ten  SURGERY_three  SURGERY_two  CLASS  \n",
       "0         0     1            1              0            0      0  \n",
       "1         0     1            1              0            0      0  \n",
       "2         0     1            0              1            0      0  \n",
       "3         0     1            0              1            0      1  \n",
       "4         0     1            0              1            0      1  \n",
       "5         0     1            0              1            0      1  \n",
       "6         0     1            0              1            0      0  \n",
       "7         0     1            0              1            0      1  \n",
       "8         0     1            0              1            0      1  \n",
       "9         0     1            0              1            0      0  \n",
       "\n",
       "[10 rows x 31 columns]"
      ]
     },
     "execution_count": 6,
     "metadata": {},
     "output_type": "execute_result"
    }
   ],
   "source": [
    "columns = df.columns.to_list()\n",
    "columns.remove('CLASS')\n",
    "df = df[columns + ['CLASS']]\n",
    "df.head(10)"
   ]
  },
  {
   "cell_type": "code",
   "execution_count": 7,
   "id": "d4a9cab1",
   "metadata": {},
   "outputs": [],
   "source": [
    "# Define feature names after preprocessing\n",
    "feature_names = df.columns[:-1]  # Exclude the 'CLASS' column"
   ]
  },
  {
   "cell_type": "markdown",
   "id": "f3fd8d76",
   "metadata": {},
   "source": [
    "We will now process the data similar to how we did for the loan data set activity."
   ]
  },
  {
   "cell_type": "markdown",
   "id": "f38c7b46",
   "metadata": {},
   "source": [
    "Run the cell below to convert the `df` into a `NumPy` array"
   ]
  },
  {
   "cell_type": "code",
   "execution_count": 8,
   "id": "7d6e0a84",
   "metadata": {},
   "outputs": [],
   "source": [
    "Xy=np.array(df)"
   ]
  },
  {
   "cell_type": "markdown",
   "id": "fc4cd620",
   "metadata": {},
   "source": [
    "For reproducibility, set the random seed = 1. You can do this by using the `NumPy` function `random.seed()`. Assign your seed to the variable `seed`. Next, complete the code cell below by using the function `random.shuffle()` on `Xy`."
   ]
  },
  {
   "cell_type": "code",
   "execution_count": 9,
   "id": "b4c2e837",
   "metadata": {},
   "outputs": [],
   "source": [
    "seed = np.random.seed(1)\n",
    "np.random.shuffle(Xy)"
   ]
  },
  {
   "cell_type": "markdown",
   "id": "3ad5f5c5",
   "metadata": {},
   "source": [
    "Before splitting the data into a training set, a test set, and a validation set, we need to divide `Xy` into two arrays: the first one, `X`, a 2D array containing all the predictors and the second, `y`, a 1D array with the response. \n",
    "\n",
    "Run the code cell below to generate `X`. Complete the remaining code to define `y`."
   ]
  },
  {
   "cell_type": "code",
   "execution_count": 10,
   "id": "ded6cfad",
   "metadata": {},
   "outputs": [],
   "source": [
    "X=Xy[:,:-1]\n",
    "y=Xy[:,-1]"
   ]
  },
  {
   "cell_type": "code",
   "execution_count": 11,
   "id": "15889d85",
   "metadata": {},
   "outputs": [],
   "source": [
    "#define y\n",
    "y=Xy[:,-1]"
   ]
  },
  {
   "cell_type": "markdown",
   "id": "4c81f25f",
   "metadata": {},
   "source": [
    "Next, we need to split the messages into into 50% training data, 25% validation data, and 25% test data.\n",
    "\n",
    "Run the code below to split `X` and `y` into training, validation and test sets."
   ]
  },
  {
   "cell_type": "code",
   "execution_count": 12,
   "id": "1da25589",
   "metadata": {},
   "outputs": [],
   "source": [
    "trainsize = int(len(df)/2)\n",
    "trainplusvalsize = int(len(df)/4)\n",
    "X_train=X[:trainsize]\n",
    "X_val=X[trainsize:trainsize + trainplusvalsize]\n",
    "X_test=X[trainsize + trainplusvalsize:]\n",
    "\n",
    "y_train=y[:trainsize]\n",
    "y_val=y[trainsize:trainsize + trainplusvalsize]\n",
    "y_test=y[trainsize + trainplusvalsize:]"
   ]
  },
  {
   "cell_type": "markdown",
   "id": "555ed343",
   "metadata": {},
   "source": [
    "[Back to top](#Index:) \n",
    "\n",
    "<a id='part2'></a>\n",
    "\n",
    "### Part 2: Fit a Single Decision Tree \n",
    "\n",
    "Use the same code as you used for the loan dataset notebook to fit decision trees with different depths up to `max_depth = 15`. Select the best depth - you will compare this to your tree ensemble methods later. "
   ]
  },
  {
   "cell_type": "code",
   "execution_count": 13,
   "id": "f612d975",
   "metadata": {
    "scrolled": true
   },
   "outputs": [
    {
     "name": "stdout",
     "output_type": "stream",
     "text": [
      "Depth: 1 Train Score: 0.738255033557047 Validation Score: 0.6081081081081081\n",
      "Depth: 2 Train Score: 0.7986577181208053 Validation Score: 0.6891891891891891\n",
      "Depth: 3 Train Score: 0.8456375838926175 Validation Score: 0.7567567567567568\n",
      "Depth: 4 Train Score: 0.8657718120805369 Validation Score: 0.7432432432432432\n",
      "Depth: 5 Train Score: 0.912751677852349 Validation Score: 0.7297297297297297\n",
      "Depth: 6 Train Score: 0.9463087248322147 Validation Score: 0.7567567567567568\n",
      "Depth: 7 Train Score: 0.9664429530201343 Validation Score: 0.7432432432432432\n",
      "Depth: 8 Train Score: 0.9731543624161074 Validation Score: 0.7702702702702703\n",
      "Depth: 9 Train Score: 0.9798657718120806 Validation Score: 0.7297297297297297\n",
      "Depth: 10 Train Score: 0.9932885906040269 Validation Score: 0.7702702702702703\n",
      "Depth: 11 Train Score: 0.9932885906040269 Validation Score: 0.7567567567567568\n",
      "Depth: 12 Train Score: 0.9932885906040269 Validation Score: 0.7432432432432432\n",
      "Depth: 13 Train Score: 0.9932885906040269 Validation Score: 0.7702702702702703\n",
      "Depth: 14 Train Score: 0.9932885906040269 Validation Score: 0.7432432432432432\n",
      "Depth: 15 Train Score: 0.9932885906040269 Validation Score: 0.7702702702702703\n"
     ]
    }
   ],
   "source": [
    "from sklearn.tree import DecisionTreeClassifier\n",
    "\n",
    "# Define the classifier\n",
    "clf = DecisionTreeClassifier()\n",
    "\n",
    "max_depth = 15\n",
    "bestdepth=-1\n",
    "bestscore = 0\n",
    "\n",
    "for i in range(15):\n",
    "    # Create a decision tree classifier with the current depth\n",
    "    clf = DecisionTreeClassifier(max_depth=i + 1)\n",
    "    \n",
    "    #fit the training sets\n",
    "    clf.fit(X_train, y_train)\n",
    "    \n",
    "    # Predict the target values for training and validation sets\n",
    "    train_predictions = clf.predict(X_train)\n",
    "    val_predictions = clf.predict(X_val)\n",
    "    \n",
    "    #update trainscore\n",
    "    trainscore = np.mean(train_predictions == y_train)\n",
    "    \n",
    "    #update valscore\n",
    "    valscore = np.mean(val_predictions == y_val)\n",
    "    \n",
    "    print( 'Depth:', i+1, 'Train Score:', trainscore, 'Validation Score:', valscore)\n",
    "    if valscore > bestscore:\n",
    "        #update bestscore\n",
    "        bestscore = valscore\n",
    "        #update depth\n",
    "        bestdepth = i + 1"
   ]
  },
  {
   "cell_type": "markdown",
   "id": "85736128",
   "metadata": {},
   "source": [
    "***Question***\n",
    "\n",
    "What is the best maximum depth? \n",
    "\n",
    "\n",
    "***Double click on this cell to enter your answer***\n",
    "\n",
    "**Best max depth is 8**\n"
   ]
  },
  {
   "cell_type": "markdown",
   "id": "2a443031",
   "metadata": {},
   "source": [
    "[Back to top](#Index:) \n",
    "\n",
    "<a id='part3'></a>\n",
    "\n",
    "## Part 3: Random Forest\n",
    "\n",
    "In this section you will learn how to build a random forest model in sklearn and explore the effect of the `max_features` hyperparameter. "
   ]
  },
  {
   "cell_type": "markdown",
   "id": "fbaf0742",
   "metadata": {},
   "source": [
    "Use the `ensemble.RandomForestClassifier()` function to build a random forest model with the default parameters. Use the `.fit()` function to train it, the same as you did for the decision tree. "
   ]
  },
  {
   "cell_type": "code",
   "execution_count": 14,
   "id": "c9bce054",
   "metadata": {
    "scrolled": true
   },
   "outputs": [
    {
     "data": {
      "text/html": [
       "<style>#sk-container-id-1 {color: black;background-color: white;}#sk-container-id-1 pre{padding: 0;}#sk-container-id-1 div.sk-toggleable {background-color: white;}#sk-container-id-1 label.sk-toggleable__label {cursor: pointer;display: block;width: 100%;margin-bottom: 0;padding: 0.3em;box-sizing: border-box;text-align: center;}#sk-container-id-1 label.sk-toggleable__label-arrow:before {content: \"▸\";float: left;margin-right: 0.25em;color: #696969;}#sk-container-id-1 label.sk-toggleable__label-arrow:hover:before {color: black;}#sk-container-id-1 div.sk-estimator:hover label.sk-toggleable__label-arrow:before {color: black;}#sk-container-id-1 div.sk-toggleable__content {max-height: 0;max-width: 0;overflow: hidden;text-align: left;background-color: #f0f8ff;}#sk-container-id-1 div.sk-toggleable__content pre {margin: 0.2em;color: black;border-radius: 0.25em;background-color: #f0f8ff;}#sk-container-id-1 input.sk-toggleable__control:checked~div.sk-toggleable__content {max-height: 200px;max-width: 100%;overflow: auto;}#sk-container-id-1 input.sk-toggleable__control:checked~label.sk-toggleable__label-arrow:before {content: \"▾\";}#sk-container-id-1 div.sk-estimator input.sk-toggleable__control:checked~label.sk-toggleable__label {background-color: #d4ebff;}#sk-container-id-1 div.sk-label input.sk-toggleable__control:checked~label.sk-toggleable__label {background-color: #d4ebff;}#sk-container-id-1 input.sk-hidden--visually {border: 0;clip: rect(1px 1px 1px 1px);clip: rect(1px, 1px, 1px, 1px);height: 1px;margin: -1px;overflow: hidden;padding: 0;position: absolute;width: 1px;}#sk-container-id-1 div.sk-estimator {font-family: monospace;background-color: #f0f8ff;border: 1px dotted black;border-radius: 0.25em;box-sizing: border-box;margin-bottom: 0.5em;}#sk-container-id-1 div.sk-estimator:hover {background-color: #d4ebff;}#sk-container-id-1 div.sk-parallel-item::after {content: \"\";width: 100%;border-bottom: 1px solid gray;flex-grow: 1;}#sk-container-id-1 div.sk-label:hover label.sk-toggleable__label {background-color: #d4ebff;}#sk-container-id-1 div.sk-serial::before {content: \"\";position: absolute;border-left: 1px solid gray;box-sizing: border-box;top: 0;bottom: 0;left: 50%;z-index: 0;}#sk-container-id-1 div.sk-serial {display: flex;flex-direction: column;align-items: center;background-color: white;padding-right: 0.2em;padding-left: 0.2em;position: relative;}#sk-container-id-1 div.sk-item {position: relative;z-index: 1;}#sk-container-id-1 div.sk-parallel {display: flex;align-items: stretch;justify-content: center;background-color: white;position: relative;}#sk-container-id-1 div.sk-item::before, #sk-container-id-1 div.sk-parallel-item::before {content: \"\";position: absolute;border-left: 1px solid gray;box-sizing: border-box;top: 0;bottom: 0;left: 50%;z-index: -1;}#sk-container-id-1 div.sk-parallel-item {display: flex;flex-direction: column;z-index: 1;position: relative;background-color: white;}#sk-container-id-1 div.sk-parallel-item:first-child::after {align-self: flex-end;width: 50%;}#sk-container-id-1 div.sk-parallel-item:last-child::after {align-self: flex-start;width: 50%;}#sk-container-id-1 div.sk-parallel-item:only-child::after {width: 0;}#sk-container-id-1 div.sk-dashed-wrapped {border: 1px dashed gray;margin: 0 0.4em 0.5em 0.4em;box-sizing: border-box;padding-bottom: 0.4em;background-color: white;}#sk-container-id-1 div.sk-label label {font-family: monospace;font-weight: bold;display: inline-block;line-height: 1.2em;}#sk-container-id-1 div.sk-label-container {text-align: center;}#sk-container-id-1 div.sk-container {/* jupyter's `normalize.less` sets `[hidden] { display: none; }` but bootstrap.min.css set `[hidden] { display: none !important; }` so we also need the `!important` here to be able to override the default hidden behavior on the sphinx rendered scikit-learn.org. See: https://github.com/scikit-learn/scikit-learn/issues/21755 */display: inline-block !important;position: relative;}#sk-container-id-1 div.sk-text-repr-fallback {display: none;}</style><div id=\"sk-container-id-1\" class=\"sk-top-container\"><div class=\"sk-text-repr-fallback\"><pre>RandomForestClassifier()</pre><b>In a Jupyter environment, please rerun this cell to show the HTML representation or trust the notebook. <br />On GitHub, the HTML representation is unable to render, please try loading this page with nbviewer.org.</b></div><div class=\"sk-container\" hidden><div class=\"sk-item\"><div class=\"sk-estimator sk-toggleable\"><input class=\"sk-toggleable__control sk-hidden--visually\" id=\"sk-estimator-id-1\" type=\"checkbox\" checked><label for=\"sk-estimator-id-1\" class=\"sk-toggleable__label sk-toggleable__label-arrow\">RandomForestClassifier</label><div class=\"sk-toggleable__content\"><pre>RandomForestClassifier()</pre></div></div></div></div></div>"
      ],
      "text/plain": [
       "RandomForestClassifier()"
      ]
     },
     "execution_count": 14,
     "metadata": {},
     "output_type": "execute_result"
    }
   ],
   "source": [
    "from sklearn.ensemble import RandomForestClassifier\n",
    "\n",
    "# Create a RandomForestClassifier instance\n",
    "rf_clf = RandomForestClassifier()\n",
    "\n",
    "# Fit the random forest model to the training data\n",
    "rf_clf.fit(X_train, y_train)"
   ]
  },
  {
   "cell_type": "code",
   "execution_count": 15,
   "id": "fcd899bf",
   "metadata": {},
   "outputs": [
    {
     "name": "stdout",
     "output_type": "stream",
     "text": [
      "Full tree guess train/validation  0.9932885906040269 0.7702702702702703\n"
     ]
    }
   ],
   "source": [
    "print ( 'Full tree guess train/validation ',rf_clf.score(X_train, y_train),rf_clf.score(X_val, y_val))"
   ]
  },
  {
   "cell_type": "markdown",
   "id": "a9aee529",
   "metadata": {},
   "source": [
    "In random forest classifiers, the algorithm only considers a subset of the features at each split. This is controlled using the `max_features` argument. Normally this subset size is set to the square root of the total number of features, but here we will look at both setting it to the square root `\"sqrt\"` (this is the default in sklearn) and to `None`. when `max_features = None` the algorithm is using all the features at every split. \n"
   ]
  },
  {
   "cell_type": "code",
   "execution_count": 16,
   "id": "4771d35a",
   "metadata": {
    "scrolled": true
   },
   "outputs": [
    {
     "name": "stdout",
     "output_type": "stream",
     "text": [
      "Full tree guess train/validation sqrt 0.9932885906040269 0.7702702702702703\n",
      "Full tree guess train/validation None 0.9932885906040269 0.7702702702702703\n"
     ]
    }
   ],
   "source": [
    "# for loop looking at RF with different max_features \n",
    "\n",
    "np.random.seed(1)\n",
    "for max_features in [\"sqrt\",  None]:\n",
    "    \n",
    "    # build the rf classifier wwith different arguments for max_features\n",
    "    rf_clf = RandomForestClassifier(max_features=max_features, random_state=42)\n",
    "    \n",
    "    # Fit the random forest model to the training data\n",
    "    rf_clf.fit(X_train, y_train)\n",
    "\n",
    "    \n",
    "    print ( f'Full tree guess train/validation {max_features}',rf_clf.score(X_train, y_train),rf_clf.score(X_val, y_val))\n"
   ]
  },
  {
   "cell_type": "markdown",
   "id": "b11a50de",
   "metadata": {},
   "source": [
    "***Question***\n",
    "\n",
    "Which method performs best? Why might this be?\n",
    "\n",
    "Rerun the cell above with different random seeds (but remember to set it back to `random_seed=1`). What happens? Why is this? \n",
    "\n",
    "***Double click on this cell to enter your answer***\n",
    "\n",
    "**Which method performs best? Why might this be?**\n",
    "\n",
    "**Full tree guess train/validation sqrt 0.9932885906040269 0.7702702702702703**\n",
    "\n",
    "**Full tree guess train/validation None 0.9932885906040269 0.7702702702702703**\n",
    "\n",
    "In the results above, both methods of using the Random Forest classifier with different max_features values have the same validation score of approximately 0.770, regardless of whether max_features is set to \"sqrt\" or None. Since the validation scores are the same, it's difficult to definitively say which method performs best based solely on this information.\n",
    "\n",
    "However, the fact that both methods yield the same validation score suggests that, in this specific case, the choice of max_features may not significantly impact the performance of the Random Forest model. Here are some possible reasons for this observation:\n",
    "\n",
    "***Data Characteristics:*** The dataset might not have many features or strong feature dependencies that would make the choice of max_features crucial. In some datasets, the choice of max_features can have a more pronounced effect on model performance.\n",
    "\n",
    "***Robustness of Random Forest:*** Random Forests are known to be robust to the choice of hyperparameters. They can perform well across a range of hyperparameter values, making them less sensitive to small changes in settings like max_features.\n",
    "\n",
    "***Randomness in Sampling:*** Random Forests introduce randomness through bootstrapping and feature subsampling, which can help mitigate the impact of a single hyperparameter change.\n",
    "\n",
    "***Randomness Control:*** The use of np.random.seed(1) and random_state=42 ensures consistent randomness in the Random Forest algorithm for both methods, which might contribute to the similar results.\n",
    "\n",
    "***Limited Impact of Features:*** It's possible that the features in the dataset do not strongly affect the model's performance, leading to similar results across different settings of max_features.\n",
    "\n",
    "Given the similar performance, it might be worthwhile to conduct further analysis, such as cross-validation, hyperparameter tuning, or investigating the relative importance of features, to gain a more comprehensive understanding of the model's behaviour and to determine whether other hyperparameters or factors play a more critical role in improving performance.\n",
    "\n",
    "It is also very importance to note that when max_features = None the algorithm is using all the features at every split. Therefore, with the information available at this stege, I will choose the max_features = \"sqrt\".\n",
    "\n",
    "**Rerun the cell above with different random seeds (but remember to set it back to `random_seed=1`). What happens? Why is this?**\n",
    "\n",
    "The random seed was changed from 1 to 42 and from 42 to 3, and finally from 3 back to 1: The results were exactly the same.\n",
    "The results, where changing the random seed does not affect the accuracy scores, are likely due to the way the random forest algorithm and random number generation work.\n",
    "\n",
    "In a random forest, randomness is introduced in two main ways:\n",
    "\n",
    "**Bootstrap Sampling:** \n",
    "Each tree in the forest is trained on a bootstrapped sample (randomly selected with replacement) from the training data. This introduces variability because different trees see slightly different subsets of the data.\n",
    "\n",
    "**Feature Subset Sampling:** \n",
    "At each split in a tree, only a subset of features (determined by max_features) is considered. This introduces diversity among the trees and reduces the risk of overfitting.\n",
    "\n",
    "The use of randomness is designed to improve the model's generalization and reduce overfitting. However, the key point is that the randomness is controlled and consistent within each run of the algorithm for a given set of parameters and data.\n",
    "\n",
    "When I changed the random seed from 1 to 42 or 3, I am essentially initializing the random number generator with a different seed value. This can lead to variations in the data splits and feature subsets for different runs, but it doesn't necessarily guarantee that the model's performance will change dramatically.\n",
    "\n",
    "In this assignment, the fact that the accuracy scores are exactly the same across different random seed values could indicate that the data and problem are relatively well-behaved and stable, and the random fluctuations introduced by different random seeds are not causing significant variations in the model's performance.\n",
    "\n",
    "Overall, while the random seed can affect the randomness introduced by the algorithm, it might not always result in noticeable changes in model performance, especially when the data is consistent and well-suited for the problem at hand."
   ]
  },
  {
   "cell_type": "markdown",
   "id": "bb788f4e",
   "metadata": {},
   "source": [
    "[Back to top](#Index:) \n",
    "\n",
    "<a id='part4'></a>\n",
    "\n",
    "## Part 4: Boosting\n",
    "\n",
    "For our boosting algorithm we will use scikit learn's AdaBoost. This boosting algorithm works by building an ensemble of weak classifiers (in our case decision trees) by sequentially weighting the incorrectly classified instances. \n",
    "\n"
   ]
  },
  {
   "cell_type": "markdown",
   "id": "19cf2c93",
   "metadata": {},
   "source": [
    "Use the .AdaBoostClassifier() to build a boosting model and fit it to the training data."
   ]
  },
  {
   "cell_type": "code",
   "execution_count": 17,
   "id": "44ca0b27",
   "metadata": {},
   "outputs": [
    {
     "data": {
      "text/html": [
       "<style>#sk-container-id-2 {color: black;background-color: white;}#sk-container-id-2 pre{padding: 0;}#sk-container-id-2 div.sk-toggleable {background-color: white;}#sk-container-id-2 label.sk-toggleable__label {cursor: pointer;display: block;width: 100%;margin-bottom: 0;padding: 0.3em;box-sizing: border-box;text-align: center;}#sk-container-id-2 label.sk-toggleable__label-arrow:before {content: \"▸\";float: left;margin-right: 0.25em;color: #696969;}#sk-container-id-2 label.sk-toggleable__label-arrow:hover:before {color: black;}#sk-container-id-2 div.sk-estimator:hover label.sk-toggleable__label-arrow:before {color: black;}#sk-container-id-2 div.sk-toggleable__content {max-height: 0;max-width: 0;overflow: hidden;text-align: left;background-color: #f0f8ff;}#sk-container-id-2 div.sk-toggleable__content pre {margin: 0.2em;color: black;border-radius: 0.25em;background-color: #f0f8ff;}#sk-container-id-2 input.sk-toggleable__control:checked~div.sk-toggleable__content {max-height: 200px;max-width: 100%;overflow: auto;}#sk-container-id-2 input.sk-toggleable__control:checked~label.sk-toggleable__label-arrow:before {content: \"▾\";}#sk-container-id-2 div.sk-estimator input.sk-toggleable__control:checked~label.sk-toggleable__label {background-color: #d4ebff;}#sk-container-id-2 div.sk-label input.sk-toggleable__control:checked~label.sk-toggleable__label {background-color: #d4ebff;}#sk-container-id-2 input.sk-hidden--visually {border: 0;clip: rect(1px 1px 1px 1px);clip: rect(1px, 1px, 1px, 1px);height: 1px;margin: -1px;overflow: hidden;padding: 0;position: absolute;width: 1px;}#sk-container-id-2 div.sk-estimator {font-family: monospace;background-color: #f0f8ff;border: 1px dotted black;border-radius: 0.25em;box-sizing: border-box;margin-bottom: 0.5em;}#sk-container-id-2 div.sk-estimator:hover {background-color: #d4ebff;}#sk-container-id-2 div.sk-parallel-item::after {content: \"\";width: 100%;border-bottom: 1px solid gray;flex-grow: 1;}#sk-container-id-2 div.sk-label:hover label.sk-toggleable__label {background-color: #d4ebff;}#sk-container-id-2 div.sk-serial::before {content: \"\";position: absolute;border-left: 1px solid gray;box-sizing: border-box;top: 0;bottom: 0;left: 50%;z-index: 0;}#sk-container-id-2 div.sk-serial {display: flex;flex-direction: column;align-items: center;background-color: white;padding-right: 0.2em;padding-left: 0.2em;position: relative;}#sk-container-id-2 div.sk-item {position: relative;z-index: 1;}#sk-container-id-2 div.sk-parallel {display: flex;align-items: stretch;justify-content: center;background-color: white;position: relative;}#sk-container-id-2 div.sk-item::before, #sk-container-id-2 div.sk-parallel-item::before {content: \"\";position: absolute;border-left: 1px solid gray;box-sizing: border-box;top: 0;bottom: 0;left: 50%;z-index: -1;}#sk-container-id-2 div.sk-parallel-item {display: flex;flex-direction: column;z-index: 1;position: relative;background-color: white;}#sk-container-id-2 div.sk-parallel-item:first-child::after {align-self: flex-end;width: 50%;}#sk-container-id-2 div.sk-parallel-item:last-child::after {align-self: flex-start;width: 50%;}#sk-container-id-2 div.sk-parallel-item:only-child::after {width: 0;}#sk-container-id-2 div.sk-dashed-wrapped {border: 1px dashed gray;margin: 0 0.4em 0.5em 0.4em;box-sizing: border-box;padding-bottom: 0.4em;background-color: white;}#sk-container-id-2 div.sk-label label {font-family: monospace;font-weight: bold;display: inline-block;line-height: 1.2em;}#sk-container-id-2 div.sk-label-container {text-align: center;}#sk-container-id-2 div.sk-container {/* jupyter's `normalize.less` sets `[hidden] { display: none; }` but bootstrap.min.css set `[hidden] { display: none !important; }` so we also need the `!important` here to be able to override the default hidden behavior on the sphinx rendered scikit-learn.org. See: https://github.com/scikit-learn/scikit-learn/issues/21755 */display: inline-block !important;position: relative;}#sk-container-id-2 div.sk-text-repr-fallback {display: none;}</style><div id=\"sk-container-id-2\" class=\"sk-top-container\"><div class=\"sk-text-repr-fallback\"><pre>AdaBoostClassifier()</pre><b>In a Jupyter environment, please rerun this cell to show the HTML representation or trust the notebook. <br />On GitHub, the HTML representation is unable to render, please try loading this page with nbviewer.org.</b></div><div class=\"sk-container\" hidden><div class=\"sk-item\"><div class=\"sk-estimator sk-toggleable\"><input class=\"sk-toggleable__control sk-hidden--visually\" id=\"sk-estimator-id-2\" type=\"checkbox\" checked><label for=\"sk-estimator-id-2\" class=\"sk-toggleable__label sk-toggleable__label-arrow\">AdaBoostClassifier</label><div class=\"sk-toggleable__content\"><pre>AdaBoostClassifier()</pre></div></div></div></div></div>"
      ],
      "text/plain": [
       "AdaBoostClassifier()"
      ]
     },
     "execution_count": 17,
     "metadata": {},
     "output_type": "execute_result"
    }
   ],
   "source": [
    "from sklearn.ensemble import AdaBoostClassifier\n",
    "\n",
    "# Create an AdaBoostClassifier instance\n",
    "ab_clf = AdaBoostClassifier()\n",
    "\n",
    "# Fit the AdaBoost model to the training data\n",
    "ab_clf.fit(X_train, y_train)"
   ]
  },
  {
   "cell_type": "code",
   "execution_count": 18,
   "id": "ad19401d",
   "metadata": {
    "scrolled": true
   },
   "outputs": [
    {
     "name": "stdout",
     "output_type": "stream",
     "text": [
      "Full tree guess train/validation  0.7785234899328859 0.6351351351351351\n"
     ]
    }
   ],
   "source": [
    "print ( 'Full tree guess train/validation ',ab_clf.score(X_train, y_train),ab_clf.score(X_val, y_val))"
   ]
  },
  {
   "cell_type": "markdown",
   "id": "dd5a8a38",
   "metadata": {},
   "source": [
    "[Back to top](#Index:) \n",
    "\n",
    "<a id='part5'></a>\n",
    "\n",
    "## Part 5: Model Selection"
   ]
  },
  {
   "cell_type": "markdown",
   "id": "1d0a4cb7",
   "metadata": {},
   "source": [
    "***Question***\n",
    "\n",
    "Which model would you use for this dataset? Decision tree, Random Forest or Boosting? Why? \n",
    "\n",
    "***Double click on this cell to enter your answer***\n",
    "\n",
    "**Decision Tree:**\n",
    "\n",
    "***Training Accuracy: 0.9732***\n",
    "***Validation Accuracy: 0.7703***\n",
    "\n",
    "**Random Forest (\"sqrt\"):**\n",
    "\n",
    "***Training Accuracy: 0.9933***\n",
    "***Validation Accuracy: 0.7703***\n",
    "\n",
    "\n",
    "**Random Forest (\"None\"):**\n",
    "\n",
    "***Training Accuracy: 0.9933***\n",
    "***Validation Accuracy: 0.7703***\n",
    "\n",
    "**AdaBoost:**\n",
    "\n",
    "***Training Accuracy: 0.7785***\n",
    "***Validation Accuracy: 0.6351***\n",
    "\n",
    "Considering the accuracy scores, the Random Forest model with max_features=\"sqrt\" seems to be the best-performing model for this dataset. \n",
    "\n",
    "It has the highest validation accuracy among the three models, indicating good generalization to unseen data. \n",
    "\n",
    "The Decision Tree model also performs well, but the Random Forest model offers the advantage of reducing overfitting and improving generalization by aggregating multiple trees.\n",
    "\n",
    "Random Forest models are often robust and effective in a wide range of scenarios. They tend to provide good performance without requiring extensive hyperparameter tuning. \n",
    "\n",
    "In this assignment, the Random Forest model with max_features=\"sqrt\" AND max_features=\"None\" both appears to strike a good balance between accuracy and generalization.\n",
    "\n",
    "However, as always, it's a good practice to conduct further evaluations, such as cross-validation, to confirm the model's performance on different subsets of the data and to assess its robustness. \n",
    "\n",
    "Additionally, I will want to consider the ensembling techniques that combine the strengths of different models, which could potentially yield even better results."
   ]
  },
  {
   "cell_type": "markdown",
   "id": "6929de10",
   "metadata": {},
   "source": [
    "Retrain the best model with both the training and validation data and test it on the test data."
   ]
  },
  {
   "cell_type": "code",
   "execution_count": 19,
   "id": "b00bbd51",
   "metadata": {},
   "outputs": [
    {
     "name": "stdout",
     "output_type": "stream",
     "text": [
      "Full tree guess train/validation  0.9864864864864865 0.8\n"
     ]
    }
   ],
   "source": [
    "X_trainval=X[:trainplusvalsize,:]\n",
    "y_trainval = y[:trainplusvalsize ]\n",
    "\n",
    "# Create the best-performing Random Forest model instance\n",
    "best_clf = RandomForestClassifier(max_features=\"sqrt\", random_state=42)\n",
    "\n",
    "# Fit the model to the combined training and validation data\n",
    "best_clf.fit(X_trainval, y_trainval)\n",
    "\n",
    "print ( 'Full tree guess train/validation ',best_clf.score(X_trainval, y_trainval),best_clf.score(X_test, y_test))"
   ]
  },
  {
   "cell_type": "markdown",
   "id": "02e2d480",
   "metadata": {},
   "source": [
    "[Back to top](#Index:) \n",
    "\n",
    "<a id='part6'></a>\n",
    "\n",
    "# Part 6: Feature Selection\n",
    "\n",
    "Feature selection can help us understand our model and the outputs it gives us, as well as remove any irrelevant predictors. In this section we will be looking at how to identify the most important features in a decision tree using two different methods:\n",
    "- Impurity metric approaches\n",
    "- Permutation Importances \n",
    "\n",
    "We will be looking at feature selection for your best model (`best_clf`)"
   ]
  },
  {
   "cell_type": "markdown",
   "id": "2d76cfec",
   "metadata": {},
   "source": [
    "Use the `.feature_importances_` function to get the inbuilt impurity metric measure. Then use the `.argsort()` \n",
    "function to sort the resulting feature importances. \n",
    "\n"
   ]
  },
  {
   "cell_type": "code",
   "execution_count": 20,
   "id": "0744ba95",
   "metadata": {},
   "outputs": [],
   "source": [
    "feature_importances = best_clf.feature_importances_\n",
    "sorted_idx = feature_importances.argsort()"
   ]
  },
  {
   "cell_type": "markdown",
   "id": "23b22eb3",
   "metadata": {},
   "source": [
    "Get the feature names from the dataframe columns `.columns`. Remember to remove the last column from the list as this is the output column."
   ]
  },
  {
   "cell_type": "code",
   "execution_count": 21,
   "id": "0d4e4841",
   "metadata": {},
   "outputs": [],
   "source": [
    "feature_names = df.columns[:-1]"
   ]
  },
  {
   "cell_type": "markdown",
   "id": "30ca853f",
   "metadata": {},
   "source": [
    "Use the function below to plot the importances."
   ]
  },
  {
   "cell_type": "code",
   "execution_count": 22,
   "id": "364411ed",
   "metadata": {},
   "outputs": [],
   "source": [
    "def plot_impurity_metric_features( feature_importances, sorted_idx, feature_names):\n",
    "    y_ticks = np.arange(0, len(feature_names))\n",
    "    fig, ax = plt.subplots(figsize=(10, 10))\n",
    "    ax.barh(y_ticks, feature_importances[sorted_idx])\n",
    "    ax.set_yticks(y_ticks)\n",
    "    ax.set_yticklabels(feature_names[sorted_idx])\n",
    "    ax.set_title(\"Random Forest Feature Importances\")\n",
    "    fig.tight_layout()\n",
    "    plt.show()\n",
    "\n"
   ]
  },
  {
   "cell_type": "code",
   "execution_count": 23,
   "id": "9460d399",
   "metadata": {
    "scrolled": false
   },
   "outputs": [
    {
     "data": {
      "image/png": "[encoded data removed]",
      "text/plain": [
       "<Figure size 1000x1000 with 1 Axes>"
      ]
     },
     "metadata": {},
     "output_type": "display_data"
    }
   ],
   "source": [
    "# plot the impurity metric feature importances \n",
    "plot_impurity_metric_features(best_clf.feature_importances_, sorted_idx, feature_names)"
   ]
  },
  {
   "cell_type": "markdown",
   "id": "5c3c2ff0",
   "metadata": {},
   "source": [
    "***Question***\n",
    "\n",
    "What are the 3 most important features? \n",
    "\n",
    "***Double click on this cell to enter your answer***\n",
    "\n",
    "The three most important features, ranked by their importance scores, are:\n",
    "\n",
    "***T_T3: 0.1843***\n",
    "\n",
    "***AGE: 0.1312***\n",
    "\n",
    "***T_T2: 0.0947***\n",
    "\n",
    "These scores represent the relative importance of each feature according to the impurity metric used by the Random Forest algorithm.\n",
    "\n",
    "Higher scores indicate higher importance.\n",
    "\n",
    "In this assignment, it appears that the feature T_T3 (which represents a specific category within the T feature), followed by AGE (age of the individual), and then T_T2 (another category within the T feature) are the three most influential features for making predictions in your model.\n"
   ]
  },
  {
   "cell_type": "markdown",
   "id": "72c4520a",
   "metadata": {},
   "source": [
    "One of the downsides of the inbuilt impurity metric is that it can only be applied to training data. This doesn't give us any indication of which features will be the most important on unseen data. \n",
    "\n",
    "Instead, we can use the permutation importance to measure the feature importances on both the training and validation sets. "
   ]
  },
  {
   "cell_type": "markdown",
   "id": "6fcc967f",
   "metadata": {},
   "source": [
    "Complete the `permutation_importance` function to calculate the importance of the diffierent features in the training dataset. Then use the `argsort()` to sort the features in order of importance again."
   ]
  },
  {
   "cell_type": "code",
   "execution_count": 24,
   "id": "9a3e93f5",
   "metadata": {},
   "outputs": [],
   "source": [
    "# permutation method on both training and test\n",
    "result = permutation_importance(estimator=best_clf, X=X_trainval, y=y_trainval, n_repeats=10, random_state=42, n_jobs=2)\n",
    "sorted_idx = result.importances_mean.argsort()\n"
   ]
  },
  {
   "cell_type": "markdown",
   "id": "aa02503c",
   "metadata": {},
   "source": [
    "Use the function below to plot the permutation importances."
   ]
  },
  {
   "cell_type": "code",
   "execution_count": 25,
   "id": "94042af0",
   "metadata": {
    "scrolled": false
   },
   "outputs": [
    {
     "data": {
      "image/png": "[encoded data removed]",
      "text/plain": [
       "<Figure size 1000x1000 with 1 Axes>"
      ]
     },
     "metadata": {},
     "output_type": "display_data"
    }
   ],
   "source": [
    "\n",
    "def plot_perm_importance(result, sorted_idx, feature_names):\n",
    "\n",
    "    fig, ax = plt.subplots(figsize=(10, 10))\n",
    "    ax.boxplot(\n",
    "        result.importances[sorted_idx].T, vert=False, labels=feature_names[sorted_idx]\n",
    "    )\n",
    "    ax.set_title(\"Permutation Importances (train set)\")\n",
    "    fig.tight_layout()\n",
    "    plt.show()\n",
    "    \n",
    "\n",
    "plot_perm_importance(result, sorted_idx, feature_names)\n"
   ]
  },
  {
   "cell_type": "markdown",
   "id": "c1d430ff",
   "metadata": {},
   "source": [
    "What do you notice about the difference between the two methods of doing feature selection? Why do you think this is?\n",
    "\n",
    "***Double click on this cell to enter your answer***\n",
    "\n"
   ]
  },
  {
   "cell_type": "markdown",
   "id": "113a70e6",
   "metadata": {},
   "source": [
    "**What do you notice about the difference between the two methods of doing feature selection?**\n",
    "\n",
    "**Why do you think this is?**\n",
    "\n",
    "The difference between the two methods of feature selection can be observed from the calculated importance:\n",
    "\n",
    "***Feature Importance:***\n",
    "The feature importance calculated using the \"feature_importance\" attribute of the Random Forest model assigns an importance score to each feature. These scores indicate the contribution of each feature to the model's overall performance. Features with higher importance scores are considered more influential in making predictions. The importance scores are usually normalized so that they sum up to 1.0. In the plot, I can see the importance scores associated with each feature.\n",
    "\n",
    "***Permutation Importance:***\n",
    "Permutation importance is a method that assesses the importance of features by measuring the impact of randomly permuting the values of a feature on the model's performance. The greater the drop in performance when a feature is randomly permuted, the more important that feature is. Permutation importance can capture non-linear and complex relationships that might be missed by simple metrics like feature importance. In the plot, I can see the impact of permutation on each feature, represented as changes in the accuracy or other performance metric of the model.\n",
    "\n",
    "***Differences and Implications:***\n",
    "Feature Importance: These are based on the internal structure of the Random Forest model. They show how much each feature contributes to the model's predictions. These values can be affected by features that are correlated, as the importance might be split among correlated features.\n",
    "\n",
    "***Permutation Importance:*** \n",
    "These are based on the actual effect of shuffling the feature's values on the model's performance. They provide a more direct measure of a feature's impact on the model's performance. Permutation importance are less affected by correlation between features because they measure the actual impact of changing one feature while keeping others constant.\n",
    "\n",
    "In this case, I notice that there are differences between the two methods in terms of which features are considered important. This could be due to the non-linear nature of the relationships in the data or correlations between features. Permutation importance tend to give a more reliable assessment of feature importance when dealing with complex datasets, but they are also computationally more intensive.\n",
    "\n",
    "In summary, while feature importance from the model provide valuable insights, permutation importance offer a more robust way to assess the real impact of features on model performance, taking into account complex interactions and potential multicollinearity.\n"
   ]
  },
  {
   "cell_type": "markdown",
   "id": "58cc1565",
   "metadata": {},
   "source": [
    "Now calculate the permutation importance on the test set. "
   ]
  },
  {
   "cell_type": "code",
   "execution_count": 26,
   "id": "5dc534c3",
   "metadata": {},
   "outputs": [
    {
     "data": {
      "image/png": "[encoded data removed]",
      "text/plain": [
       "<Figure size 1000x1000 with 1 Axes>"
      ]
     },
     "metadata": {},
     "output_type": "display_data"
    }
   ],
   "source": [
    "# Perform permutation importance on the test data\n",
    "result = permutation_importance(estimator=best_clf, X=X_test, y=y_test, n_repeats=10, random_state=42, n_jobs=2)\n",
    "sorted_idx = result.importances_mean.argsort()\n",
    "\n",
    "plot_perm_importance(result, sorted_idx, feature_names)"
   ]
  },
  {
   "cell_type": "markdown",
   "id": "bf38b03c",
   "metadata": {},
   "source": [
    "What do you see in the test data?\n",
    "\n",
    "Why do some of the importances go negative?\n",
    "\n",
    "***Double click on this cell to enter your answer***\n",
    "\n",
    "\n",
    "(3 marks)"
   ]
  },
  {
   "cell_type": "markdown",
   "id": "6b3f398e",
   "metadata": {},
   "source": [
    "**What do you see in the test data?**\n",
    "\n",
    "In the plot for the test data, I can observe the following:\n",
    "\n",
    "***Values of Permutation Importance:***\n",
    "Each row corresponds to a specific feature, and each column within that row represents the permutation importance calculated for that feature in a specific repetition. The values represent the change in performance (typically accuracy) of the model after randomly permuting the values of that feature. Positive values indicate that permuting the feature's values led to a drop in performance, while negative values indicate an increase in performance. However, for interpretation, it's better to focus on the magnitude of the values rather than the sign.\n",
    "\n",
    "***Magnitude of Permutation Importance:***\n",
    "The magnitude of the values can give us insights into how important each feature is for the model's performance. Features with larger positive or negative values indicate that the model is sensitive to changes in those features. Features with values close to zero suggest that permuting the feature's values didn't have a significant impact on the model's performance.\n",
    "\n",
    "***Negative Permutation Importance:***\n",
    "It's possible to observe negative permutation importance. This can happen when permuting a feature's values actually improves the model's performance. This might occur in situations where the feature, when permuted, introduces randomness that benefits the model's ability to make predictions. It could be that some features are adding noise or overfitting to the model, and permuting their values helps in reducing this noise, resulting in improved generalization.\n",
    "\n",
    "In practice, the magnitude of the permutation importance should be more meaningful than the sign. Features with large magnitude (positive or negative) permutation importance are likely to be more important in terms of influencing the model's performance.\n"
   ]
  },
  {
   "cell_type": "markdown",
   "id": "efcda3ba",
   "metadata": {},
   "source": [
    "**Why do some of the importances go negative?**\n",
    "\n",
    "Permutation importance can go negative for features when permuting the values of that feature leads to an improvement in the model's performance. This might seem counterintuitive at first, but it's important to understand the underlying reasons:\n",
    "\n",
    "***Noise Reduction:*** Sometimes, features can introduce noise into the model's predictions, making it less accurate. When we permute the values of such a feature, we effectively remove that noise, leading to a better generalization. As a result, the model's performance might improve after permuting that feature's values, resulting in a negative permutation importance.\n",
    "\n",
    "***Overfitting Reduction:*** Features that are overfitting the model can lead to memorization of the training data rather than learning meaningful patterns. Permuting such features might break the overfitting, allowing the model to generalize better to unseen data.\n",
    "\n",
    "***Feature Redundancy:*** In cases where features are correlated or redundant, permuting one of these correlated features might have little impact on the model's performance, as the information is still preserved by the other correlated features. This can lead to relatively small or even negative permutation importance.\n",
    "\n",
    "It's important to note that while negative permutation importance might seem unexpected, they provide valuable information about the nature of the data and the model's behaviour. Features with negative permutation importance often suggest that those features might not be contributing meaningfully to the model's predictive power and could potentially be removed without hurting performance.\n",
    "\n",
    "In summary, negative permutation importance occur when permuting a feature's values improves the model's generalization by reducing noise, overfitting, or accounting for feature redundancy. It's a signal that the feature might not be carrying meaningful information for the specific task at hand.\n"
   ]
  }
 ],
 "metadata": {
  "kernelspec": {
   "display_name": "Python 3 (ipykernel)",
   "language": "python",
   "name": "python3"
  },
  "language_info": {
   "codemirror_mode": {
    "name": "ipython",
    "version": 3
   },
   "file_extension": ".py",
   "mimetype": "text/x-python",
   "name": "python",
   "nbconvert_exporter": "python",
   "pygments_lexer": "ipython3",
   "version": "3.11.4"
  }
 },
 "nbformat": 4,
 "nbformat_minor": 5
}
